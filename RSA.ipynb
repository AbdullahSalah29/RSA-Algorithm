{
 "cells": [
  {
   "cell_type": "code",
   "execution_count": 50,
   "id": "a6c48007",
   "metadata": {},
   "outputs": [
    {
     "name": "stdout",
     "output_type": "stream",
     "text": [
      "enter the M (int): 145\n",
      "Random prime number P =  929\n",
      "Random prime number Q =  479\n",
      "N =  444991\n",
      "phi_N =  443584\n",
      "Random prime number E =  357473\n",
      "D =  419105\n",
      "Ciphertext =  106610\n",
      "Message =  145\n"
     ]
    }
   ],
   "source": [
    "import math\n",
    "\n",
    "M = int(input(\"enter the M (int): \")) \n",
    "\n",
    "def is_prime(num):\n",
    "    if num <= 1:\n",
    "        return False\n",
    "    if num <= 3:\n",
    "        return True\n",
    "    if num % 2 == 0 or num % 3 == 0:\n",
    "        return False\n",
    "    i = 5\n",
    "    while i * i <= num:\n",
    "        if num % i == 0 or num % (i + 2) == 0:\n",
    "            return False\n",
    "        i += 6\n",
    "    return True\n",
    "\n",
    "def generate_random_prime(max_val):\n",
    "    while True:\n",
    "        num = random.randint(2, max_val)  \n",
    "        if is_prime(num):\n",
    "            return num\n",
    "\n",
    "        \n",
    "max_pq = math.floor(math.sqrt(2000000))  \n",
    "p = generate_random_prime(max_pq)\n",
    "q = generate_random_prime(max_pq)\n",
    "print(\"Random prime number P = \", p)\n",
    "print(\"Random prime number Q = \", q)\n",
    "n=p*q\n",
    "print(\"N = \",n)\n",
    "\n",
    "phi_n=(p-1)*(q-1)\n",
    "print(\"phi_N = \",phi_n)\n",
    "\n",
    "max_e = phi_n - 1  \n",
    "e = generate_random_prime(max_e)\n",
    "print(\"Random prime number E = \", e)\n",
    "\n",
    "i = 1\n",
    "while True:\n",
    "    d = ((phi_n * i) + 1) / e\n",
    "    if d.is_integer():  \n",
    "        break\n",
    "    i += 1\n",
    "d=int(d) #To delete the 0 after the mark, for example 254.0 to 254\n",
    "print(\"D = \",d)\n",
    "  \n",
    "     \n",
    "C = pow(M, e, n)#this function calculate M^e and the result mod n and return the final result\n",
    "print(\"Ciphertext = \", C)\n",
    "\n",
    "plian = pow(C, d, n)\n",
    "print(\"Message = \", plian)\n"
   ]
  },
  {
   "cell_type": "code",
   "execution_count": null,
   "id": "21ce13fa",
   "metadata": {},
   "outputs": [],
   "source": []
  }
 ],
 "metadata": {
  "kernelspec": {
   "display_name": "Python 3 (ipykernel)",
   "language": "python",
   "name": "python3"
  },
  "language_info": {
   "codemirror_mode": {
    "name": "ipython",
    "version": 3
   },
   "file_extension": ".py",
   "mimetype": "text/x-python",
   "name": "python",
   "nbconvert_exporter": "python",
   "pygments_lexer": "ipython3",
   "version": "3.11.5"
  }
 },
 "nbformat": 4,
 "nbformat_minor": 5
}
